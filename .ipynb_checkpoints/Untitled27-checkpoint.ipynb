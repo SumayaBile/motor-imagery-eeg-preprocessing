{
 "cells": [
  {
   "cell_type": "code",
   "execution_count": 100,
   "id": "855f92a9",
   "metadata": {},
   "outputs": [],
   "source": [
    "import pandas as pd\n",
    "import numpy as np\n",
    "from scipy.signal import butter, filtfilt\n",
    "import csv\n",
    "import matplotlib.pyplot as plt\n",
    "from mne.decoding import CSP\n",
    "from sklearn.model_selection import train_test_split\n",
    "from sklearn.svm import SVC\n",
    "from sklearn.preprocessing import StandardScaler\n",
    "from sklearn.decomposition import PCA"
   ]
  },
  {
   "cell_type": "code",
   "execution_count": 101,
   "id": "105acac7",
   "metadata": {},
   "outputs": [
    {
     "ename": "FileNotFoundError",
     "evalue": "[Errno 2] No such file or directory: 'C:\\\\Users\\\\rawda\\\\Downloads\\\\hci2\\\\hci2\\\\dataset\\\\pa_3_labeled.csv'",
     "output_type": "error",
     "traceback": [
      "\u001b[1;31m---------------------------------------------------------------------------\u001b[0m",
      "\u001b[1;31mFileNotFoundError\u001b[0m                         Traceback (most recent call last)",
      "Cell \u001b[1;32mIn[101], line 1\u001b[0m\n\u001b[1;32m----> 1\u001b[0m data \u001b[38;5;241m=\u001b[39m  pd\u001b[38;5;241m.\u001b[39mread_csv(\u001b[38;5;124mr\u001b[39m\u001b[38;5;124m\"\u001b[39m\u001b[38;5;124mC:\u001b[39m\u001b[38;5;124m\\\u001b[39m\u001b[38;5;124mUsers\u001b[39m\u001b[38;5;124m\\\u001b[39m\u001b[38;5;124mrawda\u001b[39m\u001b[38;5;124m\\\u001b[39m\u001b[38;5;124mDownloads\u001b[39m\u001b[38;5;124m\\\u001b[39m\u001b[38;5;124mhci2\u001b[39m\u001b[38;5;124m\\\u001b[39m\u001b[38;5;124mhci2\u001b[39m\u001b[38;5;124m\\\u001b[39m\u001b[38;5;124mdataset\u001b[39m\u001b[38;5;124m\\\u001b[39m\u001b[38;5;124mpa_3_labeled.csv\u001b[39m\u001b[38;5;124m\"\u001b[39m)\n\u001b[0;32m      2\u001b[0m \u001b[38;5;28mprint\u001b[39m(data\u001b[38;5;241m.\u001b[39mhead())\n",
      "File \u001b[1;32m~\\OneDrive\\Documents\\applai\\Lib\\site-packages\\pandas\\util\\_decorators.py:211\u001b[0m, in \u001b[0;36mdeprecate_kwarg.<locals>._deprecate_kwarg.<locals>.wrapper\u001b[1;34m(*args, **kwargs)\u001b[0m\n\u001b[0;32m    209\u001b[0m     \u001b[38;5;28;01melse\u001b[39;00m:\n\u001b[0;32m    210\u001b[0m         kwargs[new_arg_name] \u001b[38;5;241m=\u001b[39m new_arg_value\n\u001b[1;32m--> 211\u001b[0m \u001b[38;5;28;01mreturn\u001b[39;00m func(\u001b[38;5;241m*\u001b[39margs, \u001b[38;5;241m*\u001b[39m\u001b[38;5;241m*\u001b[39mkwargs)\n",
      "File \u001b[1;32m~\\OneDrive\\Documents\\applai\\Lib\\site-packages\\pandas\\util\\_decorators.py:331\u001b[0m, in \u001b[0;36mdeprecate_nonkeyword_arguments.<locals>.decorate.<locals>.wrapper\u001b[1;34m(*args, **kwargs)\u001b[0m\n\u001b[0;32m    325\u001b[0m \u001b[38;5;28;01mif\u001b[39;00m \u001b[38;5;28mlen\u001b[39m(args) \u001b[38;5;241m>\u001b[39m num_allow_args:\n\u001b[0;32m    326\u001b[0m     warnings\u001b[38;5;241m.\u001b[39mwarn(\n\u001b[0;32m    327\u001b[0m         msg\u001b[38;5;241m.\u001b[39mformat(arguments\u001b[38;5;241m=\u001b[39m_format_argument_list(allow_args)),\n\u001b[0;32m    328\u001b[0m         \u001b[38;5;167;01mFutureWarning\u001b[39;00m,\n\u001b[0;32m    329\u001b[0m         stacklevel\u001b[38;5;241m=\u001b[39mfind_stack_level(),\n\u001b[0;32m    330\u001b[0m     )\n\u001b[1;32m--> 331\u001b[0m \u001b[38;5;28;01mreturn\u001b[39;00m func(\u001b[38;5;241m*\u001b[39margs, \u001b[38;5;241m*\u001b[39m\u001b[38;5;241m*\u001b[39mkwargs)\n",
      "File \u001b[1;32m~\\OneDrive\\Documents\\applai\\Lib\\site-packages\\pandas\\io\\parsers\\readers.py:950\u001b[0m, in \u001b[0;36mread_csv\u001b[1;34m(filepath_or_buffer, sep, delimiter, header, names, index_col, usecols, squeeze, prefix, mangle_dupe_cols, dtype, engine, converters, true_values, false_values, skipinitialspace, skiprows, skipfooter, nrows, na_values, keep_default_na, na_filter, verbose, skip_blank_lines, parse_dates, infer_datetime_format, keep_date_col, date_parser, dayfirst, cache_dates, iterator, chunksize, compression, thousands, decimal, lineterminator, quotechar, quoting, doublequote, escapechar, comment, encoding, encoding_errors, dialect, error_bad_lines, warn_bad_lines, on_bad_lines, delim_whitespace, low_memory, memory_map, float_precision, storage_options)\u001b[0m\n\u001b[0;32m    935\u001b[0m kwds_defaults \u001b[38;5;241m=\u001b[39m _refine_defaults_read(\n\u001b[0;32m    936\u001b[0m     dialect,\n\u001b[0;32m    937\u001b[0m     delimiter,\n\u001b[1;32m   (...)\u001b[0m\n\u001b[0;32m    946\u001b[0m     defaults\u001b[38;5;241m=\u001b[39m{\u001b[38;5;124m\"\u001b[39m\u001b[38;5;124mdelimiter\u001b[39m\u001b[38;5;124m\"\u001b[39m: \u001b[38;5;124m\"\u001b[39m\u001b[38;5;124m,\u001b[39m\u001b[38;5;124m\"\u001b[39m},\n\u001b[0;32m    947\u001b[0m )\n\u001b[0;32m    948\u001b[0m kwds\u001b[38;5;241m.\u001b[39mupdate(kwds_defaults)\n\u001b[1;32m--> 950\u001b[0m \u001b[38;5;28;01mreturn\u001b[39;00m _read(filepath_or_buffer, kwds)\n",
      "File \u001b[1;32m~\\OneDrive\\Documents\\applai\\Lib\\site-packages\\pandas\\io\\parsers\\readers.py:605\u001b[0m, in \u001b[0;36m_read\u001b[1;34m(filepath_or_buffer, kwds)\u001b[0m\n\u001b[0;32m    602\u001b[0m _validate_names(kwds\u001b[38;5;241m.\u001b[39mget(\u001b[38;5;124m\"\u001b[39m\u001b[38;5;124mnames\u001b[39m\u001b[38;5;124m\"\u001b[39m, \u001b[38;5;28;01mNone\u001b[39;00m))\n\u001b[0;32m    604\u001b[0m \u001b[38;5;66;03m# Create the parser.\u001b[39;00m\n\u001b[1;32m--> 605\u001b[0m parser \u001b[38;5;241m=\u001b[39m TextFileReader(filepath_or_buffer, \u001b[38;5;241m*\u001b[39m\u001b[38;5;241m*\u001b[39mkwds)\n\u001b[0;32m    607\u001b[0m \u001b[38;5;28;01mif\u001b[39;00m chunksize \u001b[38;5;129;01mor\u001b[39;00m iterator:\n\u001b[0;32m    608\u001b[0m     \u001b[38;5;28;01mreturn\u001b[39;00m parser\n",
      "File \u001b[1;32m~\\OneDrive\\Documents\\applai\\Lib\\site-packages\\pandas\\io\\parsers\\readers.py:1442\u001b[0m, in \u001b[0;36mTextFileReader.__init__\u001b[1;34m(self, f, engine, **kwds)\u001b[0m\n\u001b[0;32m   1439\u001b[0m     \u001b[38;5;28mself\u001b[39m\u001b[38;5;241m.\u001b[39moptions[\u001b[38;5;124m\"\u001b[39m\u001b[38;5;124mhas_index_names\u001b[39m\u001b[38;5;124m\"\u001b[39m] \u001b[38;5;241m=\u001b[39m kwds[\u001b[38;5;124m\"\u001b[39m\u001b[38;5;124mhas_index_names\u001b[39m\u001b[38;5;124m\"\u001b[39m]\n\u001b[0;32m   1441\u001b[0m \u001b[38;5;28mself\u001b[39m\u001b[38;5;241m.\u001b[39mhandles: IOHandles \u001b[38;5;241m|\u001b[39m \u001b[38;5;28;01mNone\u001b[39;00m \u001b[38;5;241m=\u001b[39m \u001b[38;5;28;01mNone\u001b[39;00m\n\u001b[1;32m-> 1442\u001b[0m \u001b[38;5;28mself\u001b[39m\u001b[38;5;241m.\u001b[39m_engine \u001b[38;5;241m=\u001b[39m \u001b[38;5;28mself\u001b[39m\u001b[38;5;241m.\u001b[39m_make_engine(f, \u001b[38;5;28mself\u001b[39m\u001b[38;5;241m.\u001b[39mengine)\n",
      "File \u001b[1;32m~\\OneDrive\\Documents\\applai\\Lib\\site-packages\\pandas\\io\\parsers\\readers.py:1735\u001b[0m, in \u001b[0;36mTextFileReader._make_engine\u001b[1;34m(self, f, engine)\u001b[0m\n\u001b[0;32m   1733\u001b[0m     \u001b[38;5;28;01mif\u001b[39;00m \u001b[38;5;124m\"\u001b[39m\u001b[38;5;124mb\u001b[39m\u001b[38;5;124m\"\u001b[39m \u001b[38;5;129;01mnot\u001b[39;00m \u001b[38;5;129;01min\u001b[39;00m mode:\n\u001b[0;32m   1734\u001b[0m         mode \u001b[38;5;241m+\u001b[39m\u001b[38;5;241m=\u001b[39m \u001b[38;5;124m\"\u001b[39m\u001b[38;5;124mb\u001b[39m\u001b[38;5;124m\"\u001b[39m\n\u001b[1;32m-> 1735\u001b[0m \u001b[38;5;28mself\u001b[39m\u001b[38;5;241m.\u001b[39mhandles \u001b[38;5;241m=\u001b[39m get_handle(\n\u001b[0;32m   1736\u001b[0m     f,\n\u001b[0;32m   1737\u001b[0m     mode,\n\u001b[0;32m   1738\u001b[0m     encoding\u001b[38;5;241m=\u001b[39m\u001b[38;5;28mself\u001b[39m\u001b[38;5;241m.\u001b[39moptions\u001b[38;5;241m.\u001b[39mget(\u001b[38;5;124m\"\u001b[39m\u001b[38;5;124mencoding\u001b[39m\u001b[38;5;124m\"\u001b[39m, \u001b[38;5;28;01mNone\u001b[39;00m),\n\u001b[0;32m   1739\u001b[0m     compression\u001b[38;5;241m=\u001b[39m\u001b[38;5;28mself\u001b[39m\u001b[38;5;241m.\u001b[39moptions\u001b[38;5;241m.\u001b[39mget(\u001b[38;5;124m\"\u001b[39m\u001b[38;5;124mcompression\u001b[39m\u001b[38;5;124m\"\u001b[39m, \u001b[38;5;28;01mNone\u001b[39;00m),\n\u001b[0;32m   1740\u001b[0m     memory_map\u001b[38;5;241m=\u001b[39m\u001b[38;5;28mself\u001b[39m\u001b[38;5;241m.\u001b[39moptions\u001b[38;5;241m.\u001b[39mget(\u001b[38;5;124m\"\u001b[39m\u001b[38;5;124mmemory_map\u001b[39m\u001b[38;5;124m\"\u001b[39m, \u001b[38;5;28;01mFalse\u001b[39;00m),\n\u001b[0;32m   1741\u001b[0m     is_text\u001b[38;5;241m=\u001b[39mis_text,\n\u001b[0;32m   1742\u001b[0m     errors\u001b[38;5;241m=\u001b[39m\u001b[38;5;28mself\u001b[39m\u001b[38;5;241m.\u001b[39moptions\u001b[38;5;241m.\u001b[39mget(\u001b[38;5;124m\"\u001b[39m\u001b[38;5;124mencoding_errors\u001b[39m\u001b[38;5;124m\"\u001b[39m, \u001b[38;5;124m\"\u001b[39m\u001b[38;5;124mstrict\u001b[39m\u001b[38;5;124m\"\u001b[39m),\n\u001b[0;32m   1743\u001b[0m     storage_options\u001b[38;5;241m=\u001b[39m\u001b[38;5;28mself\u001b[39m\u001b[38;5;241m.\u001b[39moptions\u001b[38;5;241m.\u001b[39mget(\u001b[38;5;124m\"\u001b[39m\u001b[38;5;124mstorage_options\u001b[39m\u001b[38;5;124m\"\u001b[39m, \u001b[38;5;28;01mNone\u001b[39;00m),\n\u001b[0;32m   1744\u001b[0m )\n\u001b[0;32m   1745\u001b[0m \u001b[38;5;28;01massert\u001b[39;00m \u001b[38;5;28mself\u001b[39m\u001b[38;5;241m.\u001b[39mhandles \u001b[38;5;129;01mis\u001b[39;00m \u001b[38;5;129;01mnot\u001b[39;00m \u001b[38;5;28;01mNone\u001b[39;00m\n\u001b[0;32m   1746\u001b[0m f \u001b[38;5;241m=\u001b[39m \u001b[38;5;28mself\u001b[39m\u001b[38;5;241m.\u001b[39mhandles\u001b[38;5;241m.\u001b[39mhandle\n",
      "File \u001b[1;32m~\\OneDrive\\Documents\\applai\\Lib\\site-packages\\pandas\\io\\common.py:856\u001b[0m, in \u001b[0;36mget_handle\u001b[1;34m(path_or_buf, mode, encoding, compression, memory_map, is_text, errors, storage_options)\u001b[0m\n\u001b[0;32m    851\u001b[0m \u001b[38;5;28;01melif\u001b[39;00m \u001b[38;5;28misinstance\u001b[39m(handle, \u001b[38;5;28mstr\u001b[39m):\n\u001b[0;32m    852\u001b[0m     \u001b[38;5;66;03m# Check whether the filename is to be opened in binary mode.\u001b[39;00m\n\u001b[0;32m    853\u001b[0m     \u001b[38;5;66;03m# Binary mode does not support 'encoding' and 'newline'.\u001b[39;00m\n\u001b[0;32m    854\u001b[0m     \u001b[38;5;28;01mif\u001b[39;00m ioargs\u001b[38;5;241m.\u001b[39mencoding \u001b[38;5;129;01mand\u001b[39;00m \u001b[38;5;124m\"\u001b[39m\u001b[38;5;124mb\u001b[39m\u001b[38;5;124m\"\u001b[39m \u001b[38;5;129;01mnot\u001b[39;00m \u001b[38;5;129;01min\u001b[39;00m ioargs\u001b[38;5;241m.\u001b[39mmode:\n\u001b[0;32m    855\u001b[0m         \u001b[38;5;66;03m# Encoding\u001b[39;00m\n\u001b[1;32m--> 856\u001b[0m         handle \u001b[38;5;241m=\u001b[39m \u001b[38;5;28mopen\u001b[39m(\n\u001b[0;32m    857\u001b[0m             handle,\n\u001b[0;32m    858\u001b[0m             ioargs\u001b[38;5;241m.\u001b[39mmode,\n\u001b[0;32m    859\u001b[0m             encoding\u001b[38;5;241m=\u001b[39mioargs\u001b[38;5;241m.\u001b[39mencoding,\n\u001b[0;32m    860\u001b[0m             errors\u001b[38;5;241m=\u001b[39merrors,\n\u001b[0;32m    861\u001b[0m             newline\u001b[38;5;241m=\u001b[39m\u001b[38;5;124m\"\u001b[39m\u001b[38;5;124m\"\u001b[39m,\n\u001b[0;32m    862\u001b[0m         )\n\u001b[0;32m    863\u001b[0m     \u001b[38;5;28;01melse\u001b[39;00m:\n\u001b[0;32m    864\u001b[0m         \u001b[38;5;66;03m# Binary mode\u001b[39;00m\n\u001b[0;32m    865\u001b[0m         handle \u001b[38;5;241m=\u001b[39m \u001b[38;5;28mopen\u001b[39m(handle, ioargs\u001b[38;5;241m.\u001b[39mmode)\n",
      "\u001b[1;31mFileNotFoundError\u001b[0m: [Errno 2] No such file or directory: 'C:\\\\Users\\\\rawda\\\\Downloads\\\\hci2\\\\hci2\\\\dataset\\\\pa_3_labeled.csv'"
     ]
    }
   ],
   "source": [
    "data =  pd.read_csv(r\"C:\\Users\\rawda\\Downloads\\hci2\\hci2\\dataset\\pa_3_labeled.csv\")\n",
    "print(data.head())\n"
   ]
  },
  {
   "cell_type": "code",
   "execution_count": null,
   "id": "eb20396c",
   "metadata": {},
   "outputs": [],
   "source": [
    "\n",
    "fs = 250\n",
    "final_data=np.empty([1,22,201])\n",
    "\n",
    "final_label = []\n",
    "\n",
    "for i in range(288):\n",
    "    final_label.append(data[\"class\"][i*201])\n",
    "\n",
    "\n",
    "    lowcut = 8  # Hz\n",
    "    highcut = 30  # Hz\n",
    "\n",
    "    order = 4\n",
    "\n",
    "    nyq = 0.5 * fs\n",
    "\n",
    "    low = lowcut / nyq\n",
    "    high = highcut / nyq\n",
    "\n",
    "    b, a = butter(order, [low, high], btype='band')\n",
    "\n",
    "\n",
    "    data_to_filter = data.iloc[i:i+201, 5:27]\n",
    "\n",
    "    i = i+201\n",
    "\n",
    "\n",
    "    temp = data_to_filter\n",
    "\n",
    "\n",
    "    filtered_data = pd.DataFrame(\n",
    "        filtfilt(b, a, temp, axis=0),\n",
    "        columns=temp.columns,\n",
    "        index=temp.index\n",
    "    )\n",
    "    \n",
    "\n",
    "    filtered_data = filtered_data - filtered_data.mean(axis=1).values.reshape(-1, 1)\n",
    "\n",
    "    normalized_data = (filtered_data - filtered_data.mean()) / filtered_data.std()\n",
    "\n",
    "    temp = data_to_filter.T\n",
    "    \n",
    "    final_data = np.concatenate((final_data, np.expand_dims(temp, axis=0)), axis=0)\n",
    "\n",
    "\n",
    "\n",
    "final_data = final_data[1:]\n"
   ]
  },
  {
   "cell_type": "code",
   "execution_count": 97,
   "id": "ed8452cd",
   "metadata": {},
   "outputs": [
    {
     "name": "stdout",
     "output_type": "stream",
     "text": [
      "(288, 22, 201)\n",
      "(288,)\n"
     ]
    }
   ],
   "source": [
    "print(final_data.shape)\n",
    "np.save(r'C:\\Users\\rawda\\Downloads\\hci2\\hci2\\dataset\\normalized_data.npy',final_data)\n",
    "\n",
    "final_data = final_data.transpose(0, 2, 1)\n",
    "\n",
    "final_label = np.array(final_label)\n",
    "print(np.array(final_label).shape)\n",
    "np.save(r'C:\\Users\\rawda\\Downloads\\hci2\\hci2\\dataset\\normalized_label.npy',final_label)"
   ]
  },
  {
   "cell_type": "code",
   "execution_count": 98,
   "id": "638f9bd5",
   "metadata": {},
   "outputs": [
    {
     "name": "stdout",
     "output_type": "stream",
     "text": [
      "(230,)\n",
      "(58,)\n",
      "(230, 201, 22)\n",
      "(58, 201, 22)\n"
     ]
    }
   ],
   "source": [
    "from sklearn.model_selection import train_test_split\n",
    "\n",
    "# Assuming final_data is your feature data and final_label is the target data\n",
    "X_train, X_test, y_train, y_test = train_test_split(final_data, final_label, test_size=0.2, stratify=final_label, random_state=42)\n",
    "print(y_train.shape)\n",
    "print(y_test.shape)\n",
    "print(X_train.shape)\n",
    "print(X_test.shape)  "
   ]
  },
  {
   "cell_type": "code",
   "execution_count": 64,
   "id": "02862595",
   "metadata": {},
   "outputs": [],
   "source": [
    "from sklearn.model_selection import train_test_split\n",
    "\n",
    "# Assuming final_data is your feature data and final_label is the target data\n",
    "# And you have 4 classes labeled as 1, 2, 3, and 4\n",
    "\n",
    "# Convert final_label to a numpy array for easier manipulation\n",
    "final_label = np.array(final_label)\n",
    "\n",
    "# Now, final_data should have shape (57, 201, 22)\n",
    "\n",
    "# Separate the data for each class\n",
    "data_class_1 = final_data[final_label == 0]\n",
    "data_class_2 = final_data[final_label == 1]\n",
    "data_class_3 = final_data[final_label == 2]\n",
    "data_class_4 = final_data[final_label == 3]\n",
    "\n",
    "# Apply train-test split for each class\n",
    "X_train_1, X_test_1 = train_test_split(data_class_1, test_size=0.2, random_state=42)\n",
    "X_train_2, X_test_2 = train_test_split(data_class_2, test_size=0.2, random_state=42)\n",
    "X_train_3, X_test_3 = train_test_split(data_class_3, test_size=0.2, random_state=42)\n",
    "X_train_4, X_test_4 = train_test_split(data_class_4, test_size=0.2, random_state=42)\n",
    "\n",
    "# Now, you have separate training and testing sets for each class\n"
   ]
  },
  {
   "cell_type": "code",
   "execution_count": 66,
   "id": "c4f5394c",
   "metadata": {},
   "outputs": [
    {
     "name": "stdout",
     "output_type": "stream",
     "text": [
      "Shape of X_train_1: (57, 201, 22)\n",
      "Shape of X_test_1: (15, 201, 22)\n",
      "Shape of X_train_2: (57, 201, 22)\n",
      "Shape of X_test_2: (15, 201, 22)\n",
      "Shape of X_train_3: (57, 201, 22)\n",
      "Shape of X_test_3: (15, 201, 22)\n",
      "Shape of X_train_4: (57, 201, 22)\n",
      "Shape of X_test_4: (15, 201, 22)\n"
     ]
    }
   ],
   "source": [
    "print(\"Shape of X_train_1:\", X_train_1.shape)\n",
    "print(\"Shape of X_test_1:\", X_test_1.shape)\n",
    "\n",
    "print(\"Shape of X_train_2:\", X_train_2.shape)\n",
    "print(\"Shape of X_test_2:\", X_test_2.shape)\n",
    "\n",
    "print(\"Shape of X_train_3:\", X_train_3.shape)\n",
    "print(\"Shape of X_test_3:\", X_test_3.shape)\n",
    "\n",
    "print(\"Shape of X_train_4:\", X_train_4.shape)\n",
    "print(\"Shape of X_test_4:\", X_test_4.shape)\n"
   ]
  },
  {
   "cell_type": "code",
   "execution_count": 73,
   "id": "80788c68",
   "metadata": {},
   "outputs": [
    {
     "name": "stdout",
     "output_type": "stream",
     "text": [
      "(230,)\n",
      "(58,)\n"
     ]
    }
   ],
   "source": [
    "X_train, X_test, y_train, y_test = train_test_split(final_data, final_label, test_size=0.2, stratify=final_label, random_state=42)\n",
    "print(y_train.shape)\n",
    "print(y_test.shape)"
   ]
  },
  {
   "cell_type": "code",
   "execution_count": 74,
   "id": "133e3f0e",
   "metadata": {},
   "outputs": [
    {
     "name": "stdout",
     "output_type": "stream",
     "text": [
      "Computing rank from data with rank=None\n",
      "    Using tolerance 70 (2.2e-16 eps * 201 dim * 1.6e+15  max singular value)\n",
      "    Estimated rank (data): 201\n",
      "    data: rank 201 computed from 201 data channels with 0 projectors\n",
      "Reducing data rank from 201 -> 201\n",
      "Estimating class=0 covariance using EMPIRICAL\n",
      "Done.\n",
      "Estimating class=1 covariance using EMPIRICAL\n",
      "Done.\n",
      "Estimating class=2 covariance using EMPIRICAL\n",
      "Done.\n",
      "Estimating class=3 covariance using EMPIRICAL\n",
      "Done.\n",
      "(230, 4)\n",
      "(58, 4)\n"
     ]
    }
   ],
   "source": [
    "from mne.decoding import CSP\n",
    "import numpy as np\n",
    "\n",
    "# Initialize CSP object\n",
    "csp = CSP(n_components=4, reg=None, log=True, norm_trace=False)\n",
    "\n",
    "# Fit the CSP object to the training set\n",
    "csp.fit(X_train, y_train)\n",
    "\n",
    "# Transform the data (this will give you the CSP features)\n",
    "X_train_csp = csp.transform(X_train)\n",
    "X_test_csp = csp.transform(X_test)\n",
    "\n",
    "# Now you can print the shapes of the new CSP feature sets\n",
    "print(np.shape(X_train_csp))\n",
    "print(np.shape(X_test_csp))\n"
   ]
  },
  {
   "cell_type": "code",
   "execution_count": 78,
   "id": "6170ef3d",
   "metadata": {},
   "outputs": [
    {
     "name": "stdout",
     "output_type": "stream",
     "text": [
      "Accuracy:  0.20689655172413793\n",
      "Accuracy:  0.20689655172413793\n"
     ]
    }
   ],
   "source": [
    "# Reshape the data\n",
    "X_train_csp = X_train_csp.reshape(X_train_csp.shape[0], -1)\n",
    "X_test_csp = X_test_csp.reshape(X_test_csp.shape[0], -1)\n",
    "\n",
    "# Create a SVM classifier with a linear kernel\n",
    "clf = svm.SVC(kernel='linear')\n",
    "\n",
    "# Train the model using the training sets\n",
    "clf.fit(X_train_csp, y_train)\n",
    "\n",
    "# Predict the response for test dataset\n",
    "y_pred = clf.predict(X_test_csp)\n",
    "from sklearn.metrics import accuracy_score\n",
    "\n",
    "# Predict the response for test dataset\n",
    "y_pred = clf.predict(X_test_csp)\n",
    "\n",
    "# Calculate accuracy\n",
    "accuracy = accuracy_score(y_test, y_pred)\n",
    "\n",
    "print('Accuracy: ', accuracy)\n",
    "\n",
    "from sklearn.metrics import accuracy_score\n",
    "\n",
    "# Predict the response for test dataset\n",
    "y_pred = clf.predict(X_test_csp)\n",
    "\n",
    "# Calculate accuracy\n",
    "accuracy = accuracy_score(y_test, y_pred)\n",
    "\n",
    "print('Accuracy: ', accuracy)\n"
   ]
  },
  {
   "cell_type": "code",
   "execution_count": 79,
   "id": "816f4945",
   "metadata": {},
   "outputs": [
    {
     "name": "stdout",
     "output_type": "stream",
     "text": [
      "Computing rank from data with rank=None\n",
      "    Using tolerance 70 (2.2e-16 eps * 201 dim * 1.6e+15  max singular value)\n",
      "    Estimated rank (data): 201\n",
      "    data: rank 201 computed from 201 data channels with 0 projectors\n",
      "Reducing data rank from 201 -> 201\n",
      "Estimating class=0 covariance using EMPIRICAL\n",
      "Done.\n",
      "Estimating class=1 covariance using EMPIRICAL\n",
      "Done.\n",
      "Estimating class=2 covariance using EMPIRICAL\n",
      "Done.\n",
      "Estimating class=3 covariance using EMPIRICAL\n",
      "Done.\n",
      "Accuracy:  0.20689655172413793\n"
     ]
    }
   ],
   "source": [
    "from sklearn.model_selection import train_test_split\n",
    "from mne.decoding import CSP\n",
    "from sklearn import svm\n",
    "from sklearn.metrics import accuracy_score\n",
    "\n",
    "# Split the data\n",
    "X_train, X_test, y_train, y_test = train_test_split(final_data, final_label, test_size=0.2, stratify=final_label, random_state=42)\n",
    "\n",
    "# Apply CSP\n",
    "csp = CSP(n_components=4, reg=None, log=True, norm_trace=False)\n",
    "csp.fit(X_train, y_train)\n",
    "X_train_csp = csp.transform(X_train)\n",
    "X_test_csp = csp.transform(X_test)\n",
    "\n",
    "# Use a classifier (SVM in this case)\n",
    "clf = svm.SVC(kernel='linear')\n",
    "clf.fit(X_train_csp, y_train)\n",
    "y_pred = clf.predict(X_test_csp)\n",
    "\n",
    "# Compute accuracy\n",
    "accuracy = accuracy_score(y_test, y_pred)\n",
    "print('Accuracy: ', accuracy)\n"
   ]
  },
  {
   "cell_type": "code",
   "execution_count": 83,
   "id": "b6e873b4",
   "metadata": {},
   "outputs": [
    {
     "name": "stdout",
     "output_type": "stream",
     "text": [
      "Computing rank from data with rank=None\n",
      "    Using tolerance 70 (2.2e-16 eps * 201 dim * 1.6e+15  max singular value)\n",
      "    Estimated rank (data): 201\n",
      "    data: rank 201 computed from 201 data channels with 0 projectors\n",
      "Reducing data rank from 201 -> 201\n",
      "Estimating class=0 covariance using EMPIRICAL\n",
      "Done.\n",
      "Estimating class=1 covariance using EMPIRICAL\n",
      "Done.\n",
      "Estimating class=2 covariance using EMPIRICAL\n",
      "Done.\n",
      "Estimating class=3 covariance using EMPIRICAL\n",
      "Done.\n",
      "Accuracy:  0.20689655172413793\n"
     ]
    }
   ],
   "source": [
    "from sklearn.model_selection import train_test_split\n",
    "from mne.decoding import CSP\n",
    "from sklearn import svm\n",
    "from sklearn.metrics import accuracy_score\n",
    "from sklearn.model_selection import train_test_split\n",
    "from mne.decoding import CSP\n",
    "from sklearn import svm\n",
    "from sklearn.metrics import accuracy_score\n",
    "\n",
    "# Split the data\n",
    "X_train, X_test, y_train, y_test = train_test_split(final_data, final_label, test_size=0.2, stratify=final_label, random_state=42)\n",
    "\n",
    "# Apply CSP\n",
    "csp = CSP(n_components=4, reg=None, log=True, norm_trace=False)\n",
    "csp.fit(X_train, y_train)\n",
    "X_train_csp = csp.transform(X_train)\n",
    "X_test_csp = csp.transform(X_test)\n",
    "\n",
    "# Use a classifier (SVM in this case)\n",
    "clf = svm.SVC(kernel='linear')\n",
    "clf.fit(X_train_csp, y_train)\n",
    "y_pred = clf.predict(X_test_csp)\n",
    "\n",
    "# Compute accuracy\n",
    "accuracy = accuracy_score(y_test, y_pred)\n",
    "print('Accuracy: ', accuracy)\n"
   ]
  },
  {
   "cell_type": "code",
   "execution_count": 84,
   "id": "fbef0ccb",
   "metadata": {},
   "outputs": [
    {
     "name": "stdout",
     "output_type": "stream",
     "text": [
      "Computing rank from data with rank=None\n",
      "    Using tolerance 70 (2.2e-16 eps * 201 dim * 1.6e+15  max singular value)\n",
      "    Estimated rank (data): 201\n",
      "    data: rank 201 computed from 201 data channels with 0 projectors\n",
      "Reducing data rank from 201 -> 201\n",
      "Estimating class=0 covariance using EMPIRICAL\n",
      "Done.\n",
      "Estimating class=1 covariance using EMPIRICAL\n",
      "Done.\n",
      "Estimating class=2 covariance using EMPIRICAL\n",
      "Done.\n",
      "Estimating class=3 covariance using EMPIRICAL\n",
      "Done.\n",
      "Accuracy:  0.25862068965517243\n"
     ]
    }
   ],
   "source": [
    "from sklearn.ensemble import RandomForestClassifier\n",
    "from sklearn.metrics import accuracy_score\n",
    "\n",
    "# Apply CSP\n",
    "csp = CSP(n_components=4, reg=None, log=True, norm_trace=False)\n",
    "csp.fit(X_train, y_train)\n",
    "X_train_csp = csp.transform(X_train)\n",
    "X_test_csp = csp.transform(X_test)\n",
    "\n",
    "# Use RandomForestClassifier\n",
    "clf = RandomForestClassifier(n_estimators=100)\n",
    "clf.fit(X_train_csp, y_train)\n",
    "y_pred = clf.predict(X_test_csp)\n",
    "\n",
    "# Compute accuracy\n",
    "accuracy = accuracy_score(y_test, y_pred)\n",
    "print('Accuracy: ', accuracy)\n"
   ]
  },
  {
   "cell_type": "code",
   "execution_count": 85,
   "id": "24297dcf",
   "metadata": {},
   "outputs": [
    {
     "name": "stdout",
     "output_type": "stream",
     "text": [
      "Computing rank from data with rank=None\n",
      "    Using tolerance 70 (2.2e-16 eps * 201 dim * 1.6e+15  max singular value)\n",
      "    Estimated rank (data): 201\n",
      "    data: rank 201 computed from 201 data channels with 0 projectors\n",
      "Reducing data rank from 201 -> 201\n",
      "Estimating class=0 covariance using EMPIRICAL\n",
      "Done.\n",
      "Estimating class=1 covariance using EMPIRICAL\n",
      "Done.\n",
      "Estimating class=2 covariance using EMPIRICAL\n",
      "Done.\n",
      "Estimating class=3 covariance using EMPIRICAL\n",
      "Done.\n",
      "Accuracy:  0.2413793103448276\n"
     ]
    }
   ],
   "source": [
    "from sklearn.neighbors import KNeighborsClassifier\n",
    "from sklearn.metrics import accuracy_score\n",
    "\n",
    "# Apply CSP\n",
    "csp = CSP(n_components=4, reg=None, log=True, norm_trace=False)\n",
    "csp.fit(X_train, y_train)\n",
    "X_train_csp = csp.transform(X_train)\n",
    "X_test_csp = csp.transform(X_test)\n",
    "\n",
    "# Use KNeighborsClassifier\n",
    "knn = KNeighborsClassifier(n_neighbors=3)\n",
    "knn.fit(X_train_csp, y_train)\n",
    "y_pred = knn.predict(X_test_csp)\n",
    "\n",
    "# Compute accuracy\n",
    "accuracy = accuracy_score(y_test, y_pred)\n",
    "print('Accuracy: ', accuracy)\n"
   ]
  },
  {
   "cell_type": "code",
   "execution_count": 86,
   "id": "d929065a",
   "metadata": {},
   "outputs": [
    {
     "name": "stdout",
     "output_type": "stream",
     "text": [
      "Computing rank from data with rank=None\n",
      "    Using tolerance 70 (2.2e-16 eps * 201 dim * 1.6e+15  max singular value)\n",
      "    Estimated rank (data): 201\n",
      "    data: rank 201 computed from 201 data channels with 0 projectors\n",
      "Reducing data rank from 201 -> 201\n",
      "Estimating class=0 covariance using EMPIRICAL\n",
      "Done.\n",
      "Estimating class=1 covariance using EMPIRICAL\n",
      "Done.\n",
      "Estimating class=2 covariance using EMPIRICAL\n",
      "Done.\n",
      "Estimating class=3 covariance using EMPIRICAL\n",
      "Done.\n",
      "Accuracy:  0.22413793103448276\n"
     ]
    }
   ],
   "source": [
    "from sklearn.neighbors import KNeighborsClassifier\n",
    "from sklearn.metrics import accuracy_score\n",
    "\n",
    "# Apply CSP\n",
    "csp = CSP(n_components=4, reg=None, log=True, norm_trace=False)\n",
    "csp.fit(X_train, y_train)\n",
    "X_train_csp = csp.transform(X_train)\n",
    "X_test_csp = csp.transform(X_test)\n",
    "\n",
    "# Use KNeighborsClassifier\n",
    "from sklearn.naive_bayes import GaussianNB\n",
    "gnb = GaussianNB()\n",
    "gnb.fit(X_train_csp, y_train)\n",
    "y_pred = gnb.predict(X_test_csp)\n",
    "\n",
    "# Compute accuracy\n",
    "accuracy = accuracy_score(y_test, y_pred)\n",
    "print('Accuracy: ', accuracy)\n"
   ]
  },
  {
   "cell_type": "code",
   "execution_count": 88,
   "id": "7c14745a",
   "metadata": {},
   "outputs": [
    {
     "name": "stdout",
     "output_type": "stream",
     "text": [
      "Computing rank from data with rank=None\n",
      "    Using tolerance 70 (2.2e-16 eps * 201 dim * 1.6e+15  max singular value)\n",
      "    Estimated rank (data): 201\n",
      "    data: rank 201 computed from 201 data channels with 0 projectors\n",
      "Reducing data rank from 201 -> 201\n",
      "Estimating class=0 covariance using EMPIRICAL\n",
      "Done.\n",
      "Estimating class=1 covariance using EMPIRICAL\n",
      "Done.\n",
      "Estimating class=2 covariance using EMPIRICAL\n",
      "Done.\n",
      "Estimating class=3 covariance using EMPIRICAL\n",
      "Done.\n",
      "Accuracy:  0.2413793103448276\n"
     ]
    }
   ],
   "source": [
    "from sklearn.neighbors import KNeighborsClassifier\n",
    "from sklearn.metrics import accuracy_score\n",
    "\n",
    "# Apply CSP\n",
    "csp = CSP(n_components=4, reg=None, log=True, norm_trace=False)\n",
    "csp.fit(X_train, y_train)\n",
    "X_train_csp = csp.transform(X_train)\n",
    "X_test_csp = csp.transform(X_test)\n",
    "\n",
    "# Use KNeighborsClassifier\n",
    "from sklearn.naive_bayes import GaussianNB\n",
    "from sklearn.ensemble import AdaBoostClassifier\n",
    "abc = AdaBoostClassifier()\n",
    "abc.fit(X_train_csp, y_train)\n",
    "y_pred = abc.predict(X_test_csp)\n",
    "\n",
    "# Compute accuracy\n",
    "accuracy = accuracy_score(y_test, y_pred)\n",
    "print('Accuracy: ', accuracy)\n"
   ]
  },
  {
   "cell_type": "code",
   "execution_count": 99,
   "id": "3ee9df54",
   "metadata": {},
   "outputs": [
    {
     "name": "stdout",
     "output_type": "stream",
     "text": [
      "Computing rank from data with rank=None\n",
      "    Using tolerance 70 (2.2e-16 eps * 201 dim * 1.6e+15  max singular value)\n",
      "    Estimated rank (data): 201\n",
      "    data: rank 201 computed from 201 data channels with 0 projectors\n",
      "Reducing data rank from 201 -> 201\n",
      "Estimating class=0 covariance using EMPIRICAL\n",
      "Done.\n",
      "Estimating class=1 covariance using EMPIRICAL\n",
      "Done.\n",
      "Estimating class=2 covariance using EMPIRICAL\n",
      "Done.\n",
      "Estimating class=3 covariance using EMPIRICAL\n",
      "Done.\n",
      "Accuracy:  0.20689655172413793\n"
     ]
    }
   ],
   "source": [
    "from sklearn.linear_model import LogisticRegression\n",
    "\n",
    "# Apply CSP\n",
    "csp = CSP(n_components=4, reg=None, log=True, norm_trace=False)\n",
    "csp.fit(X_train, y_train)\n",
    "X_train_csp = csp.transform(X_train)\n",
    "X_test_csp = csp.transform(X_test)\n",
    "\n",
    "# Use LogisticRegression\n",
    "classifier = LogisticRegression()\n",
    "classifier.fit(X_train_csp, y_train)\n",
    "y_pred = classifier.predict(X_test_csp)\n",
    "\n",
    "# Compute accuracy\n",
    "accuracy = accuracy_score(y_test, y_pred)\n",
    "print('Accuracy: ', accuracy)\n"
   ]
  },
  {
   "cell_type": "code",
   "execution_count": 102,
   "id": "d84b36bd",
   "metadata": {},
   "outputs": [
    {
     "name": "stdout",
     "output_type": "stream",
     "text": [
      "Computing rank from data with rank=None\n",
      "    Using tolerance 70 (2.2e-16 eps * 201 dim * 1.6e+15  max singular value)\n",
      "    Estimated rank (data): 201\n",
      "    data: rank 201 computed from 201 data channels with 0 projectors\n",
      "Reducing data rank from 201 -> 201\n",
      "Estimating class=0 covariance using EMPIRICAL\n",
      "Done.\n",
      "Estimating class=1 covariance using EMPIRICAL\n",
      "Done.\n",
      "Estimating class=2 covariance using EMPIRICAL\n",
      "Done.\n",
      "Estimating class=3 covariance using EMPIRICAL\n",
      "Done.\n",
      "Accuracy:  0.25862068965517243\n"
     ]
    }
   ],
   "source": [
    "from sklearn.model_selection import train_test_split\n",
    "from mne.decoding import CSP\n",
    "from sklearn import svm\n",
    "from sklearn.decomposition import PCA\n",
    "from sklearn.metrics import accuracy_score\n",
    "\n",
    "# Split the data\n",
    "X_train, X_test, y_train, y_test = train_test_split(final_data, final_label, test_size=0.2, stratify=final_label, random_state=42)\n",
    "\n",
    "# Apply CSP\n",
    "csp = CSP(n_components=4, reg=None, log=True, norm_trace=False)\n",
    "csp.fit(X_train, y_train)\n",
    "X_train_csp = csp.transform(X_train)\n",
    "X_test_csp = csp.transform(X_test)\n",
    "\n",
    "# Apply PCA\n",
    "pca = PCA(n_components=2)  # You can adjust the number of components\n",
    "X_train_pca = pca.fit_transform(X_train_csp)\n",
    "X_test_pca = pca.transform(X_test_csp)\n",
    "\n",
    "# Use a classifier (SVM in this case)\n",
    "clf = svm.SVC(kernel='linear')\n",
    "clf.fit(X_train_pca, y_train)\n",
    "y_pred = clf.predict(X_test_pca)\n",
    "\n",
    "# Compute accuracy\n",
    "accuracy = accuracy_score(y_test, y_pred)\n",
    "print('Accuracy: ', accuracy)\n"
   ]
  },
  {
   "cell_type": "code",
   "execution_count": 103,
   "id": "6de8fc08",
   "metadata": {},
   "outputs": [
    {
     "name": "stdout",
     "output_type": "stream",
     "text": [
      "Computing rank from data with rank=None\n",
      "    Using tolerance 70 (2.2e-16 eps * 201 dim * 1.6e+15  max singular value)\n",
      "    Estimated rank (data): 201\n",
      "    data: rank 201 computed from 201 data channels with 0 projectors\n",
      "Reducing data rank from 201 -> 201\n",
      "Estimating class=0 covariance using EMPIRICAL\n",
      "Done.\n",
      "Estimating class=1 covariance using EMPIRICAL\n",
      "Done.\n",
      "Estimating class=2 covariance using EMPIRICAL\n",
      "Done.\n",
      "Estimating class=3 covariance using EMPIRICAL\n",
      "Done.\n",
      "Accuracy:  0.27586206896551724\n"
     ]
    }
   ],
   "source": [
    "from sklearn.decomposition import PCA\n",
    "from sklearn.ensemble import RandomForestClassifier\n",
    "from sklearn.metrics import accuracy_score\n",
    "X_train, X_test, y_train, y_test = train_test_split(final_data, final_label, test_size=0.2, stratify=final_label, random_state=42)\n",
    "\n",
    "# Apply CSP\n",
    "csp = CSP(n_components=4, reg=None, log=True, norm_trace=False)\n",
    "csp.fit(X_train, y_train)\n",
    "X_train_csp = csp.transform(X_train)\n",
    "X_test_csp = csp.transform(X_test)\n",
    "\n",
    "# Apply PCA\n",
    "pca = PCA(n_components=2)  # You can adjust the number of components\n",
    "X_train_pca = pca.fit_transform(X_train_csp)\n",
    "X_test_pca = pca.transform(X_test_csp)\n",
    "\n",
    "# Use RandomForestClassifier\n",
    "clf = RandomForestClassifier(n_estimators=100)\n",
    "clf.fit(X_train_pca, y_train)\n",
    "y_pred = clf.predict(X_test_pca)\n",
    "\n",
    "# Compute accuracy\n",
    "accuracy = accuracy_score(y_test, y_pred)\n",
    "print('Accuracy: ', accuracy)\n"
   ]
  },
  {
   "cell_type": "code",
   "execution_count": 104,
   "id": "2760e9f6",
   "metadata": {},
   "outputs": [
    {
     "name": "stdout",
     "output_type": "stream",
     "text": [
      "Computing rank from data with rank=None\n",
      "    Using tolerance 70 (2.2e-16 eps * 201 dim * 1.6e+15  max singular value)\n",
      "    Estimated rank (data): 201\n",
      "    data: rank 201 computed from 201 data channels with 0 projectors\n",
      "Reducing data rank from 201 -> 201\n",
      "Estimating class=0 covariance using EMPIRICAL\n",
      "Done.\n",
      "Estimating class=1 covariance using EMPIRICAL\n",
      "Done.\n",
      "Estimating class=2 covariance using EMPIRICAL\n",
      "Done.\n",
      "Estimating class=3 covariance using EMPIRICAL\n",
      "Done.\n",
      "Accuracy:  0.27586206896551724\n"
     ]
    }
   ],
   "source": [
    "from sklearn.decomposition import FastICA\n",
    "from sklearn.ensemble import RandomForestClassifier\n",
    "from sklearn.metrics import accuracy_score\n",
    "\n",
    "# Apply CSP\n",
    "csp = CSP(n_components=4, reg=None, log=True, norm_trace=False)\n",
    "csp.fit(X_train, y_train)\n",
    "X_train_csp = csp.transform(X_train)\n",
    "X_test_csp = csp.transform(X_test)\n",
    "\n",
    "# Apply ICA\n",
    "ica = FastICA(n_components=2)  # You can adjust the number of components\n",
    "X_train_ica = ica.fit_transform(X_train_csp)\n",
    "X_test_ica = ica.transform(X_test_csp)\n",
    "\n",
    "# Use RandomForestClassifier\n",
    "clf = RandomForestClassifier(n_estimators=100)\n",
    "clf.fit(X_train_ica, y_train)\n",
    "y_pred = clf.predict(X_test_ica)\n",
    "\n",
    "# Compute accuracy\n",
    "accuracy = accuracy_score(y_test, y_pred)\n",
    "print('Accuracy: ', accuracy)\n"
   ]
  },
  {
   "cell_type": "code",
   "execution_count": 105,
   "id": "0c9d63d8",
   "metadata": {},
   "outputs": [
    {
     "name": "stdout",
     "output_type": "stream",
     "text": [
      "Computing rank from data with rank=None\n",
      "    Using tolerance 70 (2.2e-16 eps * 201 dim * 1.6e+15  max singular value)\n",
      "    Estimated rank (data): 201\n",
      "    data: rank 201 computed from 201 data channels with 0 projectors\n",
      "Reducing data rank from 201 -> 201\n",
      "Estimating class=0 covariance using EMPIRICAL\n",
      "Done.\n",
      "Estimating class=1 covariance using EMPIRICAL\n",
      "Done.\n",
      "Estimating class=2 covariance using EMPIRICAL\n",
      "Done.\n",
      "Estimating class=3 covariance using EMPIRICAL\n",
      "Done.\n",
      "Accuracy:  0.3103448275862069\n"
     ]
    }
   ],
   "source": [
    "from sklearn.preprocessing import StandardScaler\n",
    "\n",
    "# Apply CSP\n",
    "csp = CSP(n_components=4, reg=None, log=True, norm_trace=False)\n",
    "csp.fit(X_train, y_train)\n",
    "X_train_csp = csp.transform(X_train)\n",
    "X_test_csp = csp.transform(X_test)\n",
    "\n",
    "# Apply PCA\n",
    "pca = PCA(n_components=2)  # You can adjust the number of components\n",
    "X_train_pca = pca.fit_transform(X_train_csp)\n",
    "X_test_pca = pca.transform(X_test_csp)\n",
    "\n",
    "# Apply feature scaling\n",
    "scaler = StandardScaler()\n",
    "X_train_scaled = scaler.fit_transform(X_train_pca)\n",
    "X_test_scaled = scaler.transform(X_test_pca)\n",
    "\n",
    "# Use RandomForestClassifier\n",
    "clf = RandomForestClassifier(n_estimators=100)\n",
    "clf.fit(X_train_scaled, y_train)\n",
    "y_pred = clf.predict(X_test_scaled)\n",
    "\n",
    "# Compute accuracy\n",
    "accuracy = accuracy_score(y_test, y_pred)\n",
    "print('Accuracy: ', accuracy)\n"
   ]
  },
  {
   "cell_type": "code",
   "execution_count": 106,
   "id": "7f0b3ca8",
   "metadata": {},
   "outputs": [
    {
     "name": "stdout",
     "output_type": "stream",
     "text": [
      "Computing rank from data with rank=None\n",
      "    Using tolerance 70 (2.2e-16 eps * 201 dim * 1.6e+15  max singular value)\n",
      "    Estimated rank (data): 201\n",
      "    data: rank 201 computed from 201 data channels with 0 projectors\n",
      "Reducing data rank from 201 -> 201\n",
      "Estimating class=0 covariance using EMPIRICAL\n",
      "Done.\n",
      "Estimating class=1 covariance using EMPIRICAL\n",
      "Done.\n",
      "Estimating class=2 covariance using EMPIRICAL\n",
      "Done.\n",
      "Estimating class=3 covariance using EMPIRICAL\n",
      "Done.\n",
      "Accuracy:  0.25862068965517243\n"
     ]
    }
   ],
   "source": [
    "from sklearn.preprocessing import MinMaxScaler\n",
    "\n",
    "# Apply CSP\n",
    "csp = CSP(n_components=4, reg=None, log=True, norm_trace=False)\n",
    "csp.fit(X_train, y_train)\n",
    "X_train_csp = csp.transform(X_train)\n",
    "X_test_csp = csp.transform(X_test)\n",
    "\n",
    "# Apply PCA\n",
    "pca = PCA(n_components=2)  # You can adjust the number of components\n",
    "X_train_pca = pca.fit_transform(X_train_csp)\n",
    "X_test_pca = pca.transform(X_test_csp)\n",
    "\n",
    "# Apply data normalization\n",
    "scaler = MinMaxScaler()\n",
    "X_train_norm = scaler.fit_transform(X_train_pca)\n",
    "X_test_norm = scaler.transform(X_test_pca)\n",
    "\n",
    "# Use RandomForestClassifier\n",
    "clf = RandomForestClassifier(n_estimators=100)\n",
    "clf.fit(X_train_norm, y_train)\n",
    "y_pred = clf.predict(X_test_norm)\n",
    "\n",
    "# Compute accuracy\n",
    "accuracy = accuracy_score(y_test, y_pred)\n",
    "print('Accuracy: ', accuracy)\n"
   ]
  },
  {
   "cell_type": "code",
   "execution_count": null,
   "id": "9cbf512e",
   "metadata": {},
   "outputs": [],
   "source": []
  }
 ],
 "metadata": {
  "kernelspec": {
   "display_name": "Python 3 (ipykernel)",
   "language": "python",
   "name": "python3"
  },
  "language_info": {
   "codemirror_mode": {
    "name": "ipython",
    "version": 3
   },
   "file_extension": ".py",
   "mimetype": "text/x-python",
   "name": "python",
   "nbconvert_exporter": "python",
   "pygments_lexer": "ipython3",
   "version": "3.11.4"
  }
 },
 "nbformat": 4,
 "nbformat_minor": 5
}
